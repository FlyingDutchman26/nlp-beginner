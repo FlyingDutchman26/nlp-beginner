{
 "cells": [
  {
   "cell_type": "markdown",
   "metadata": {},
   "source": [
    "## 任务二：基于深度学习的文本分类\n",
    "\n",
    "熟悉Pytorch，用Pytorch重写《任务一》，实现CNN、RNN的文本分类；\n",
    "\n",
    "1. 参考\n",
    "\n",
    "   1. https://pytorch.org/\n",
    "   2. Convolutional Neural Networks for Sentence Classification <https://arxiv.org/abs/1408.5882>\n",
    "   3. <https://machinelearningmastery.com/sequence-classification-lstm-recurrent-neural-networks-python-keras/>\n",
    "2. word embedding 的方式初始化\n",
    "1. 随机embedding的初始化方式\n",
    "  2. 用glove 预训练的embedding进行初始化 https://nlp.stanford.edu/projects/glove/\n",
    "3. 知识点：\n",
    "\n",
    "   1. CNN/RNN的特征抽取\n",
    "   2. 词嵌入\n",
    "   3. Dropout\n",
    "4. 时间：两周"
   ]
  }
 ],
 "metadata": {
  "kernelspec": {
   "display_name": "Python 3.10.2 64-bit",
   "language": "python",
   "name": "python3"
  },
  "language_info": {
   "name": "python",
   "version": "3.10.2"
  },
  "orig_nbformat": 4,
  "vscode": {
   "interpreter": {
    "hash": "2469a70536e4d2335a2ea8907942d0699c37342a371ac185bdb5b0aa6f073890"
   }
  }
 },
 "nbformat": 4,
 "nbformat_minor": 2
}
